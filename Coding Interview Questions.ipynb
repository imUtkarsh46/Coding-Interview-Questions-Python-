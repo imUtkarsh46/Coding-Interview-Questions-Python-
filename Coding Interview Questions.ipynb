{
 "cells": [
  {
   "cell_type": "markdown",
   "id": "bbbc4021",
   "metadata": {},
   "source": [
    "# Prime Number"
   ]
  },
  {
   "cell_type": "code",
   "execution_count": 19,
   "id": "c49d52dc",
   "metadata": {},
   "outputs": [
    {
     "name": "stdout",
     "output_type": "stream",
     "text": [
      "Enter Number : 2008\n",
      "It's not a Prime Number\n"
     ]
    }
   ],
   "source": [
    "#Prime Number\n",
    "num = int(input('Enter Number : '))\n",
    "for i in range(2,num):\n",
    "    if num%i == 0:\n",
    "        print(\"It's not a Prime Number\")\n",
    "        break\n",
    "else:\n",
    "    print(\"It's a Prime Number\")"
   ]
  },
  {
   "cell_type": "markdown",
   "id": "38cdaaa2",
   "metadata": {},
   "source": [
    "# Lead Year"
   ]
  },
  {
   "cell_type": "code",
   "execution_count": 10,
   "id": "5aa97bd0",
   "metadata": {},
   "outputs": [
    {
     "name": "stdout",
     "output_type": "stream",
     "text": [
      "Enter Number : 2021\n",
      "2021 is not a leap year!\n"
     ]
    }
   ],
   "source": [
    "#Lead Year\n",
    "year = int(input('Enter Number : '))\n",
    "if year%400 == 0:\n",
    "    print(f'{year} is a leap year!')\n",
    "elif year%100 != 0 and year%4==0:\n",
    "    print(f'{year} is a leap year!')\n",
    "else:\n",
    "    print(f'{year} is not a leap year!')"
   ]
  },
  {
   "cell_type": "markdown",
   "id": "9ff8e0cb",
   "metadata": {},
   "source": [
    "# Fibonacci Series"
   ]
  },
  {
   "cell_type": "code",
   "execution_count": 17,
   "id": "a263847d",
   "metadata": {},
   "outputs": [
    {
     "name": "stdout",
     "output_type": "stream",
     "text": [
      "Enter Number : 10\n",
      "0\n",
      "1\n",
      "1\n",
      "2\n",
      "3\n",
      "5\n",
      "8\n",
      "13\n",
      "21\n",
      "34\n"
     ]
    }
   ],
   "source": [
    "def fib(num):\n",
    "    a = 0\n",
    "    b = 1\n",
    "    print(a)\n",
    "    print(b)\n",
    "    for i in range(2, num):\n",
    "        c = a + b\n",
    "        a = b\n",
    "        b = c\n",
    "        print(c)\n",
    "        \n",
    "        \n",
    "\n",
    "num = int(input('Enter Number : '))\n",
    "fib(num)"
   ]
  },
  {
   "cell_type": "markdown",
   "id": "be142c9e",
   "metadata": {},
   "source": [
    "# Factorial Number"
   ]
  },
  {
   "cell_type": "code",
   "execution_count": 18,
   "id": "56bb6810",
   "metadata": {},
   "outputs": [
    {
     "name": "stdout",
     "output_type": "stream",
     "text": [
      "Enter Number : 5\n",
      "120\n"
     ]
    }
   ],
   "source": [
    "#Factorial\n",
    "def fact(num):\n",
    "    result = 1\n",
    "    for i in range(1, num+1):\n",
    "        result *= i\n",
    "    print(result)\n",
    "    \n",
    "    \n",
    "num = int(input('Enter Number : '))\n",
    "fact(num)"
   ]
  },
  {
   "cell_type": "markdown",
   "id": "f8ed134c",
   "metadata": {},
   "source": [
    "# Print Prime Number Between 100 to 200"
   ]
  },
  {
   "cell_type": "code",
   "execution_count": 35,
   "id": "b918d2d0",
   "metadata": {},
   "outputs": [
    {
     "name": "stdout",
     "output_type": "stream",
     "text": [
      "101\n",
      "103\n",
      "107\n",
      "109\n",
      "113\n",
      "127\n",
      "131\n",
      "137\n",
      "139\n",
      "149\n",
      "151\n",
      "157\n",
      "163\n",
      "167\n",
      "173\n",
      "179\n",
      "181\n",
      "191\n",
      "193\n",
      "197\n",
      "199\n"
     ]
    }
   ],
   "source": [
    "min_r = 100\n",
    "max_r = 200\n",
    "for num in range(min_r, max_r):\n",
    "    if all(num%j!= 0  for j in range(2, num)):\n",
    "        print(num)"
   ]
  },
  {
   "cell_type": "code",
   "execution_count": 37,
   "id": "d119dcb4",
   "metadata": {},
   "outputs": [
    {
     "name": "stdout",
     "output_type": "stream",
     "text": [
      "101\n",
      "103\n",
      "107\n",
      "109\n",
      "113\n",
      "127\n",
      "131\n",
      "137\n",
      "139\n",
      "149\n",
      "151\n",
      "157\n",
      "163\n",
      "167\n",
      "173\n",
      "179\n",
      "181\n",
      "191\n",
      "193\n",
      "197\n",
      "199\n"
     ]
    }
   ],
   "source": [
    "min_r = 100\n",
    "max_r = 200\n",
    "for num in range(min_r, max_r):\n",
    "    for j in range(2, num):\n",
    "        if num%j == 0:\n",
    "            break\n",
    "    else:\n",
    "        print(num)"
   ]
  },
  {
   "cell_type": "markdown",
   "id": "ed1a6657",
   "metadata": {},
   "source": [
    "# Sort elements in the list using Sort Function"
   ]
  },
  {
   "cell_type": "code",
   "execution_count": 39,
   "id": "05d297e3",
   "metadata": {},
   "outputs": [
    {
     "name": "stdout",
     "output_type": "stream",
     "text": [
      "[1, 3, 6, 10, 12, 23, 45, 48, 56, 59, 178]\n"
     ]
    }
   ],
   "source": [
    "li = [10,45,178,12,1,56,23,48,59,3,6]\n",
    "li.sort()\n",
    "print(li)"
   ]
  },
  {
   "cell_type": "markdown",
   "id": "20636836",
   "metadata": {},
   "source": [
    "# Sort elements in the list without using Sort Function"
   ]
  },
  {
   "cell_type": "code",
   "execution_count": 42,
   "id": "356d3074",
   "metadata": {},
   "outputs": [
    {
     "name": "stdout",
     "output_type": "stream",
     "text": [
      "[1, 3, 6, 10, 12, 23, 45, 48, 56, 59, 178]\n"
     ]
    }
   ],
   "source": [
    "li = [10,45,178,12,1,56,23,48,59,3,6]\n",
    "new_li = []\n",
    "while len(li)>0:\n",
    "    min_n = min(li)\n",
    "    new_li.append(min_n)\n",
    "    li.remove(min_n)\n",
    "    \n",
    "print(new_li)"
   ]
  },
  {
   "cell_type": "code",
   "execution_count": 43,
   "id": "311aa903",
   "metadata": {},
   "outputs": [
    {
     "name": "stdout",
     "output_type": "stream",
     "text": [
      "[1, 3, 6, 10, 12, 23, 45, 48, 56, 59, 178]\n"
     ]
    }
   ],
   "source": [
    "#Without Min and Max\n",
    "li = [10,45,178,12,1,56,23,48,59,3,6]\n",
    "for i in range(len(li)):\n",
    "    for j in range(i + 1, len(li)):\n",
    "\n",
    "        if li[i] > li[j]:\n",
    "           li[i], li[j] = li[j], li[i]\n",
    "print(li)"
   ]
  },
  {
   "cell_type": "markdown",
   "id": "9b37723b",
   "metadata": {},
   "source": [
    "# Print List in Reverse"
   ]
  },
  {
   "cell_type": "code",
   "execution_count": 47,
   "id": "36bf926b",
   "metadata": {},
   "outputs": [
    {
     "name": "stdout",
     "output_type": "stream",
     "text": [
      "[6, 3, 59, 48, 23, 56, 1, 12, 178, 45, 10]\n"
     ]
    }
   ],
   "source": [
    "li = [10,45,178,12,1,56,23,48,59,3,6]\n",
    "li.reverse()\n",
    "print(li)"
   ]
  },
  {
   "cell_type": "code",
   "execution_count": 48,
   "id": "0ce9e4bd",
   "metadata": {},
   "outputs": [
    {
     "name": "stdout",
     "output_type": "stream",
     "text": [
      "[6, 3, 59, 48, 23, 56, 1, 12, 178, 45, 10]\n"
     ]
    }
   ],
   "source": [
    "li = [10,45,178,12,1,56,23,48,59,3,6]\n",
    "print(li[::-1])"
   ]
  },
  {
   "cell_type": "markdown",
   "id": "2bd43584",
   "metadata": {},
   "source": [
    "# Panildrome String"
   ]
  },
  {
   "cell_type": "code",
   "execution_count": 56,
   "id": "00df33d5",
   "metadata": {},
   "outputs": [
    {
     "name": "stdout",
     "output_type": "stream",
     "text": [
      "Enter Any String - Madam\n",
      "It's a Panildrome String\n"
     ]
    }
   ],
   "source": [
    "st = input('Enter Any String - ').lower()\n",
    "rev = st[::-1]\n",
    "if st == rev:\n",
    "    print(\"It's a Panildrome String\")\n",
    "else:\n",
    "     print(\"It's not a Panildrome String\")"
   ]
  },
  {
   "cell_type": "markdown",
   "id": "8dd0476a",
   "metadata": {},
   "source": [
    "# Find the duplicates values in the list"
   ]
  },
  {
   "cell_type": "code",
   "execution_count": 77,
   "id": "b773459c",
   "metadata": {},
   "outputs": [
    {
     "name": "stdout",
     "output_type": "stream",
     "text": [
      "{48, 10, 12}\n"
     ]
    }
   ],
   "source": [
    "li = [10,12,48,12,48,56,12,48,59,3,10]\n",
    "dup = []\n",
    "for i in li:\n",
    "    if li.count(i) > 1:\n",
    "        dup.append(i)\n",
    "print(set(dup))\n",
    "        "
   ]
  },
  {
   "cell_type": "markdown",
   "id": "54786138",
   "metadata": {},
   "source": [
    "# Print number of words in a given string"
   ]
  },
  {
   "cell_type": "code",
   "execution_count": 87,
   "id": "e143a606",
   "metadata": {},
   "outputs": [
    {
     "name": "stdout",
     "output_type": "stream",
     "text": [
      "4\n"
     ]
    }
   ],
   "source": [
    "st = 'Hi I am utkarsh'\n",
    "print(len(st.split()))"
   ]
  },
  {
   "cell_type": "markdown",
   "id": "98b61182",
   "metadata": {},
   "source": [
    "# Search a given element X in arr[]"
   ]
  },
  {
   "cell_type": "code",
   "execution_count": 98,
   "id": "064b3dc5",
   "metadata": {},
   "outputs": [
    {
     "name": "stdout",
     "output_type": "stream",
     "text": [
      "Num : 78\n",
      "78 Present in list at index location 7\n"
     ]
    }
   ],
   "source": [
    "li = [0, 1, 82, 73, 4, 55, 6, 78, 8, 29]\n",
    "def search(li, num):\n",
    "    if num in li:\n",
    "        print(f'{num} Present in list at index location {li.index(num)}')\n",
    "    else:\n",
    "        print(f'{num} Not Present in list')\n",
    "    \n",
    "num = int(input('Num : '))\n",
    "search(li, num)"
   ]
  },
  {
   "cell_type": "markdown",
   "id": "4e77f94f",
   "metadata": {},
   "source": [
    "# Search a most occcuring element in the list"
   ]
  },
  {
   "cell_type": "code",
   "execution_count": 104,
   "id": "68507e34",
   "metadata": {},
   "outputs": [
    {
     "name": "stdout",
     "output_type": "stream",
     "text": [
      "78\n"
     ]
    }
   ],
   "source": [
    "li = [0, 1, 82, 78, 4, 55, 6, 78, 78, 29]\n",
    "print(max(set(li), key=li.count))"
   ]
  },
  {
   "cell_type": "code",
   "execution_count": 113,
   "id": "06a3a8ef",
   "metadata": {},
   "outputs": [
    {
     "name": "stdout",
     "output_type": "stream",
     "text": [
      "78\n"
     ]
    }
   ],
   "source": [
    "from collections import Counter\n",
    "li = [0, 1, 82, 78, 4, 55, 6, 78, 78, 29]\n",
    "occurence_count = Counter(li)\n",
    "print(occurence_count.most_common()[0][0])"
   ]
  },
  {
   "cell_type": "markdown",
   "id": "ad472b69",
   "metadata": {},
   "source": [
    "# Join Two String"
   ]
  },
  {
   "cell_type": "code",
   "execution_count": 114,
   "id": "cdee455a",
   "metadata": {},
   "outputs": [
    {
     "name": "stdout",
     "output_type": "stream",
     "text": [
      "Hi! Swati\n"
     ]
    }
   ],
   "source": [
    "s1 = 'Hi!'\n",
    "s2 = 'Swati'\n",
    "print(s1 + \" \" + s2)"
   ]
  },
  {
   "cell_type": "code",
   "execution_count": 120,
   "id": "be9ed526",
   "metadata": {},
   "outputs": [
    {
     "name": "stdout",
     "output_type": "stream",
     "text": [
      "Hi! Swati\n"
     ]
    }
   ],
   "source": [
    "print(\" \".join((s1, s2)))"
   ]
  },
  {
   "cell_type": "markdown",
   "id": "c6b358b2",
   "metadata": {},
   "source": [
    "# Extract Digits from the given string"
   ]
  },
  {
   "cell_type": "code",
   "execution_count": 122,
   "id": "0254c7a0",
   "metadata": {},
   "outputs": [
    {
     "name": "stdout",
     "output_type": "stream",
     "text": [
      "[9, 5, 9]\n"
     ]
    }
   ],
   "source": [
    "st = 'Aaj me 9 bje party krne jauga apne 5 frnds ke satth mazzo9 me'\n",
    "li = []\n",
    "for i in st:\n",
    "    if i.isdigit():\n",
    "        li.append(int(i))\n",
    "print(li)"
   ]
  },
  {
   "cell_type": "markdown",
   "id": "78463ac6",
   "metadata": {},
   "source": [
    "# Split string using newline delimiter"
   ]
  },
  {
   "cell_type": "code",
   "execution_count": 124,
   "id": "57a36767",
   "metadata": {},
   "outputs": [
    {
     "name": "stdout",
     "output_type": "stream",
     "text": [
      "['Aaj', 'me', '9', 'bje', 'party', 'krne', 'jauga', 'apne', '5', 'frnds', 'ke', 'satth', 'mazzo9', 'me']\n"
     ]
    }
   ],
   "source": [
    "st = 'Aaj me 9 bje party krne jauga apne 5 frnds ke satth mazzo9 me'\n",
    "print(st.split(' '))"
   ]
  },
  {
   "cell_type": "markdown",
   "id": "5585567c",
   "metadata": {},
   "source": [
    "# Delete recurring character and return new str"
   ]
  },
  {
   "cell_type": "code",
   "execution_count": 136,
   "id": "9b6243a0",
   "metadata": {},
   "outputs": [
    {
     "name": "stdout",
     "output_type": "stream",
     "text": [
      "drwol\n"
     ]
    }
   ],
   "source": [
    "st = 'wwwwooorrrlllld'\n",
    "print(\"\".join(set([i for i in st])))"
   ]
  },
  {
   "cell_type": "markdown",
   "id": "68533712",
   "metadata": {},
   "source": [
    "# Armstrong Number"
   ]
  },
  {
   "cell_type": "code",
   "execution_count": 144,
   "id": "9b56f47b",
   "metadata": {},
   "outputs": [
    {
     "name": "stdout",
     "output_type": "stream",
     "text": [
      "Number :4875\n",
      "Oops! It's Not a Armstrong Number\n"
     ]
    }
   ],
   "source": [
    "num = int(input('Number :' ))\n",
    "p = len(str(num))\n",
    "res = 0\n",
    "for i in str(num):\n",
    "    res += int(i)**p\n",
    "    if res == num :\n",
    "        print(\"Congrates! .. It's a Armstrong Number\")\n",
    "        break\n",
    "else:\n",
    "    print(\"Oops! It's Not a Armstrong Number\")"
   ]
  },
  {
   "cell_type": "markdown",
   "id": "3f09e22a",
   "metadata": {},
   "source": [
    "# Patterns"
   ]
  },
  {
   "cell_type": "code",
   "execution_count": 147,
   "id": "942c36ed",
   "metadata": {
    "scrolled": true
   },
   "outputs": [
    {
     "name": "stdout",
     "output_type": "stream",
     "text": [
      "* * * * * \n",
      "* * * * * \n",
      "* * * * * \n",
      "* * * * * \n",
      "* * * * * \n"
     ]
    }
   ],
   "source": [
    "n = 5\n",
    "for i in range(n):\n",
    "    print('* '*5)"
   ]
  },
  {
   "cell_type": "code",
   "execution_count": 1,
   "id": "2ef24beb",
   "metadata": {},
   "outputs": [
    {
     "name": "stdout",
     "output_type": "stream",
     "text": [
      "154\n",
      "(1, 1) (1, 5) (1, 4) "
     ]
    }
   ],
   "source": [
    "from itertools import *\n",
    "\n",
    "io = input()\n",
    "for i,j in groupby(map(int,list(io))):\n",
    "    print(tuple([len(list(j)), i]), end=\" \")"
   ]
  },
  {
   "cell_type": "markdown",
   "id": "6fa7d16f",
   "metadata": {},
   "source": [
    "# HCF(Highest Common Fector) or GCD "
   ]
  },
  {
   "cell_type": "code",
   "execution_count": 9,
   "id": "94eef2e3",
   "metadata": {},
   "outputs": [
    {
     "name": "stdout",
     "output_type": "stream",
     "text": [
      "Number 1 : 24\n",
      "Number 2 : 30\n",
      "6\n"
     ]
    }
   ],
   "source": [
    "n1 = int(input('Number 1 : '))\n",
    "n2 = int(input('Number 2 : '))\n",
    "min_n = min(n1, n2)\n",
    "hcf = 0\n",
    "for i in range(2, min_n+1):\n",
    "    if n1%i == 0 and n2%i == 0:\n",
    "        hcf = i\n",
    "print(hcf)"
   ]
  },
  {
   "cell_type": "markdown",
   "id": "b97edfac",
   "metadata": {},
   "source": [
    "# LCM(Lowest Common Fector)"
   ]
  },
  {
   "cell_type": "code",
   "execution_count": 13,
   "id": "fb5ec770",
   "metadata": {},
   "outputs": [
    {
     "name": "stdout",
     "output_type": "stream",
     "text": [
      "Number 1 : 36\n",
      "Number 2 : 27\n",
      "108\n"
     ]
    }
   ],
   "source": [
    "n1 = int(input('Number 1 : '))\n",
    "n2 = int(input('Number 2 : '))\n",
    "max_n = max(n1, n2)\n",
    "while True:\n",
    "    max_n += 1\n",
    "    if max_n%n1 == 0 and max_n%n2 == 0:\n",
    "        print(max_n)\n",
    "        break"
   ]
  },
  {
   "cell_type": "code",
   "execution_count": null,
   "id": "5aed8079",
   "metadata": {},
   "outputs": [],
   "source": []
  }
 ],
 "metadata": {
  "kernelspec": {
   "display_name": "Python 3 (ipykernel)",
   "language": "python",
   "name": "python3"
  },
  "language_info": {
   "codemirror_mode": {
    "name": "ipython",
    "version": 3
   },
   "file_extension": ".py",
   "mimetype": "text/x-python",
   "name": "python",
   "nbconvert_exporter": "python",
   "pygments_lexer": "ipython3",
   "version": "3.9.12"
  },
  "widgets": {
   "application/vnd.jupyter.widget-state+json": {
    "state": {},
    "version_major": 2,
    "version_minor": 0
   }
  }
 },
 "nbformat": 4,
 "nbformat_minor": 5
}
